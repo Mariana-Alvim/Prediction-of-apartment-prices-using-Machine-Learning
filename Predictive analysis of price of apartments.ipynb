{
 "cells": [
  {
   "cell_type": "markdown",
   "metadata": {},
   "source": [
    "### **`Predictive analysis of the sale price of apartments in São Paulo`**"
   ]
  },
  {
   "cell_type": "markdown",
   "metadata": {},
   "source": [
    "This dataset has information on more than 1300 apartments avilable for sale or rent in the city of São Paulo, Brazil. The data was collected during april 2019 through webscrapping of real state classified sites.\n",
    "\n",
    "\n",
    "**Source:** https://www.kaggle.com/datasets/argonalyst/sao-paulo-real-estate-sale-rent-april-2019?resource=download\n",
    "\n",
    "\n",
    "\n",
    "**Properties (Un.): Description**\n",
    "\n",
    "- Price (R$): Final price announced\n",
    "- Condo (R$): Condominium fee (zero indicates that the value is unknown)\n",
    "- Size (m²): Apartment size (only private areas)\n",
    "- Rooms :Number od bedrooms\n",
    "- Toilets: Number of bathrooms (all bathrooms)\n",
    "- Suites: Number of bedrooms with private bathrooms\n",
    "- Parking: Number of parking spaces\n",
    "- Elevator: Binary value: 1 if there's elevator in the building, 0 otherwise\n",
    "- Furnished: Binary value: 1 if the apartment is furnished, 0 otherwise\n",
    "- Swimming Pool: Binary value: 1 if the apartment has a swimming pool, 0 otherwise\n",
    "- New: Binary value: 1 if the apartment is new, 0 otherwise\n",
    "- District: Location name\n",
    "- Negotiation Type: Description of the type of negotiation: rent or sell\n",
    "- Property Type: Property type (all observations are apartments) \n",
    "- Latitude: Latitude\n",
    "- Longitude: Longitute\n"
   ]
  },
  {
   "cell_type": "markdown",
   "metadata": {},
   "source": [
    "### **Main goal**\n",
    "\n",
    "- Obtain a predictive model for apartment purchase prices in the city of São Paulo.\n",
    "- obtain insights by exploring the relationships between features abd target.\n",
    " "
   ]
  },
  {
   "cell_type": "markdown",
   "metadata": {},
   "source": [
    "## Importing and exploring the data\n",
    "---"
   ]
  },
  {
   "cell_type": "code",
   "execution_count": 1,
   "metadata": {},
   "outputs": [],
   "source": [
    "import pandas as pd\n",
    "import numpy as np\n",
    "\n",
    "import matplotlib.pyplot as plt\n",
    "from matplotlib import colors\n",
    "from matplotlib.ticker import PercentFormatter\n",
    "\n",
    "import seaborn as sns\n",
    "\n",
    "# Silencia os avisos de cópia \n",
    "import warnings\n",
    "warnings.simplefilter(\"ignore\")"
   ]
  },
  {
   "cell_type": "code",
   "execution_count": 2,
   "metadata": {},
   "outputs": [],
   "source": [
    "df = pd.read_csv(\"sao-paulo-properties-april-2019.csv\")"
   ]
  },
  {
   "cell_type": "code",
   "execution_count": 3,
   "metadata": {},
   "outputs": [
    {
     "data": {
      "text/html": [
       "<div>\n",
       "<style scoped>\n",
       "    .dataframe tbody tr th:only-of-type {\n",
       "        vertical-align: middle;\n",
       "    }\n",
       "\n",
       "    .dataframe tbody tr th {\n",
       "        vertical-align: top;\n",
       "    }\n",
       "\n",
       "    .dataframe thead th {\n",
       "        text-align: right;\n",
       "    }\n",
       "</style>\n",
       "<table border=\"1\" class=\"dataframe\">\n",
       "  <thead>\n",
       "    <tr style=\"text-align: right;\">\n",
       "      <th></th>\n",
       "      <th>Price</th>\n",
       "      <th>Condo</th>\n",
       "      <th>Size</th>\n",
       "      <th>Rooms</th>\n",
       "      <th>Toilets</th>\n",
       "      <th>Suites</th>\n",
       "      <th>Parking</th>\n",
       "      <th>Elevator</th>\n",
       "      <th>Furnished</th>\n",
       "      <th>Swimming Pool</th>\n",
       "      <th>New</th>\n",
       "      <th>District</th>\n",
       "      <th>Negotiation Type</th>\n",
       "      <th>Property Type</th>\n",
       "      <th>Latitude</th>\n",
       "      <th>Longitude</th>\n",
       "    </tr>\n",
       "  </thead>\n",
       "  <tbody>\n",
       "    <tr>\n",
       "      <th>0</th>\n",
       "      <td>930</td>\n",
       "      <td>220</td>\n",
       "      <td>47</td>\n",
       "      <td>2</td>\n",
       "      <td>2</td>\n",
       "      <td>1</td>\n",
       "      <td>1</td>\n",
       "      <td>0</td>\n",
       "      <td>0</td>\n",
       "      <td>0</td>\n",
       "      <td>0</td>\n",
       "      <td>Artur Alvim/São Paulo</td>\n",
       "      <td>rent</td>\n",
       "      <td>apartment</td>\n",
       "      <td>-23.543138</td>\n",
       "      <td>-46.479486</td>\n",
       "    </tr>\n",
       "    <tr>\n",
       "      <th>1</th>\n",
       "      <td>1000</td>\n",
       "      <td>148</td>\n",
       "      <td>45</td>\n",
       "      <td>2</td>\n",
       "      <td>2</td>\n",
       "      <td>1</td>\n",
       "      <td>1</td>\n",
       "      <td>0</td>\n",
       "      <td>0</td>\n",
       "      <td>0</td>\n",
       "      <td>0</td>\n",
       "      <td>Artur Alvim/São Paulo</td>\n",
       "      <td>rent</td>\n",
       "      <td>apartment</td>\n",
       "      <td>-23.550239</td>\n",
       "      <td>-46.480718</td>\n",
       "    </tr>\n",
       "    <tr>\n",
       "      <th>2</th>\n",
       "      <td>1000</td>\n",
       "      <td>100</td>\n",
       "      <td>48</td>\n",
       "      <td>2</td>\n",
       "      <td>2</td>\n",
       "      <td>1</td>\n",
       "      <td>1</td>\n",
       "      <td>0</td>\n",
       "      <td>0</td>\n",
       "      <td>0</td>\n",
       "      <td>0</td>\n",
       "      <td>Artur Alvim/São Paulo</td>\n",
       "      <td>rent</td>\n",
       "      <td>apartment</td>\n",
       "      <td>-23.542818</td>\n",
       "      <td>-46.485665</td>\n",
       "    </tr>\n",
       "  </tbody>\n",
       "</table>\n",
       "</div>"
      ],
      "text/plain": [
       "   Price  Condo  Size  Rooms  Toilets  Suites  Parking  Elevator  Furnished  \\\n",
       "0    930    220    47      2        2       1        1         0          0   \n",
       "1   1000    148    45      2        2       1        1         0          0   \n",
       "2   1000    100    48      2        2       1        1         0          0   \n",
       "\n",
       "   Swimming Pool  New               District Negotiation Type Property Type  \\\n",
       "0              0    0  Artur Alvim/São Paulo             rent     apartment   \n",
       "1              0    0  Artur Alvim/São Paulo             rent     apartment   \n",
       "2              0    0  Artur Alvim/São Paulo             rent     apartment   \n",
       "\n",
       "    Latitude  Longitude  \n",
       "0 -23.543138 -46.479486  \n",
       "1 -23.550239 -46.480718  \n",
       "2 -23.542818 -46.485665  "
      ]
     },
     "execution_count": 3,
     "metadata": {},
     "output_type": "execute_result"
    }
   ],
   "source": [
    "df.head(3)"
   ]
  },
  {
   "cell_type": "code",
   "execution_count": 4,
   "metadata": {},
   "outputs": [
    {
     "data": {
      "text/plain": [
       "(13640, 16)"
      ]
     },
     "execution_count": 4,
     "metadata": {},
     "output_type": "execute_result"
    }
   ],
   "source": [
    "df.shape"
   ]
  },
  {
   "cell_type": "code",
   "execution_count": 5,
   "metadata": {},
   "outputs": [
    {
     "name": "stdout",
     "output_type": "stream",
     "text": [
      "<class 'pandas.core.frame.DataFrame'>\n",
      "RangeIndex: 13640 entries, 0 to 13639\n",
      "Data columns (total 16 columns):\n",
      " #   Column            Non-Null Count  Dtype  \n",
      "---  ------            --------------  -----  \n",
      " 0   Price             13640 non-null  int64  \n",
      " 1   Condo             13640 non-null  int64  \n",
      " 2   Size              13640 non-null  int64  \n",
      " 3   Rooms             13640 non-null  int64  \n",
      " 4   Toilets           13640 non-null  int64  \n",
      " 5   Suites            13640 non-null  int64  \n",
      " 6   Parking           13640 non-null  int64  \n",
      " 7   Elevator          13640 non-null  int64  \n",
      " 8   Furnished         13640 non-null  int64  \n",
      " 9   Swimming Pool     13640 non-null  int64  \n",
      " 10  New               13640 non-null  int64  \n",
      " 11  District          13640 non-null  object \n",
      " 12  Negotiation Type  13640 non-null  object \n",
      " 13  Property Type     13640 non-null  object \n",
      " 14  Latitude          13640 non-null  float64\n",
      " 15  Longitude         13640 non-null  float64\n",
      "dtypes: float64(2), int64(11), object(3)\n",
      "memory usage: 1.7+ MB\n"
     ]
    }
   ],
   "source": [
    "df.info()"
   ]
  },
  {
   "cell_type": "code",
   "execution_count": 6,
   "metadata": {},
   "outputs": [
    {
     "name": "stdout",
     "output_type": "stream",
     "text": [
      "Total dataset observations: 13640\n",
      "Missing values: 0\n",
      "Duplicate observations: 319\n"
     ]
    }
   ],
   "source": [
    "print(f'Total dataset observations: {len(df)}')\n",
    "print(f'Missing values: {df.isnull().sum().sum()}')\n",
    "print(f'Duplicate observations: {df.duplicated().sum()}')"
   ]
  },
  {
   "cell_type": "code",
   "execution_count": 7,
   "metadata": {},
   "outputs": [
    {
     "data": {
      "text/plain": [
       "Index(['Price', 'Condo', 'Size', 'Rooms', 'Toilets', 'Suites', 'Parking',\n",
       "       'Elevator', 'Furnished', 'Swimming Pool', 'New', 'District',\n",
       "       'Negotiation Type', 'Property Type', 'Latitude', 'Longitude'],\n",
       "      dtype='object')"
      ]
     },
     "execution_count": 7,
     "metadata": {},
     "output_type": "execute_result"
    }
   ],
   "source": [
    "df.columns"
   ]
  },
  {
   "cell_type": "code",
   "execution_count": 8,
   "metadata": {},
   "outputs": [
    {
     "name": "stdout",
     "output_type": "stream",
     "text": [
      "Price - 1881 - int64\n",
      "Condo - 1415 - int64\n",
      "Size - 339 - int64\n",
      "Rooms - 8 - int64\n",
      "Toilets - 8 - int64\n",
      "Suites - 7 - int64\n",
      "Parking - 10 - int64\n",
      "Elevator - 2 - int64\n",
      "Furnished - 2 - int64\n",
      "Swimming Pool - 2 - int64\n",
      "New - 2 - int64\n",
      "District - 96 - object\n",
      "Negotiation Type - 2 - object\n",
      "Property Type - 1 - object\n",
      "Latitude - 8405 - float64\n",
      "Longitude - 8451 - float64\n"
     ]
    }
   ],
   "source": [
    "for i in df.columns:\n",
    "    print(i, '-', len(df[i].unique()), '-', df[i].dtypes)"
   ]
  },
  {
   "cell_type": "code",
   "execution_count": 9,
   "metadata": {},
   "outputs": [
    {
     "data": {
      "text/plain": [
       "int64      11\n",
       "object      3\n",
       "float64     2\n",
       "dtype: int64"
      ]
     },
     "execution_count": 9,
     "metadata": {},
     "output_type": "execute_result"
    }
   ],
   "source": [
    "df.dtypes.value_counts()"
   ]
  },
  {
   "cell_type": "code",
   "execution_count": 10,
   "metadata": {},
   "outputs": [
    {
     "data": {
      "text/plain": [
       "array(['apartment'], dtype=object)"
      ]
     },
     "execution_count": 10,
     "metadata": {},
     "output_type": "execute_result"
    }
   ],
   "source": [
    "df['Property Type'].unique()"
   ]
  },
  {
   "cell_type": "code",
   "execution_count": 11,
   "metadata": {},
   "outputs": [
    {
     "name": "stdout",
     "output_type": "stream",
     "text": [
      "Total observations: 13640\n",
      "Number of unknown condominium fee: 1977\n",
      "Number of known condominium fee: 11663\n",
      "Percentage of unknown condominium fee: 14.49%\n"
     ]
    }
   ],
   "source": [
    "# Exploring the feature \"Condo\" (Condominium fee)\n",
    "# Zero indicates that the condominium fee is unknown\n",
    "print(f\"Total observations: {len(df)}\")\n",
    "print(f\"Number of unknown condominium fee: {(df['Condo'] == 0).value_counts()[True]}\")\n",
    "print(f\"Number of known condominium fee: {(df['Condo'] == 0).value_counts()[False]}\")\n",
    "print(f\"Percentage of unknown condominium fee: {(df['Condo'] == 0).value_counts(True)[True]*100:.2f}%\")\n"
   ]
  },
  {
   "cell_type": "code",
   "execution_count": 12,
   "metadata": {},
   "outputs": [
    {
     "data": {
      "text/plain": [
       "array(['rent', 'sale'], dtype=object)"
      ]
     },
     "execution_count": 12,
     "metadata": {},
     "output_type": "execute_result"
    }
   ],
   "source": [
    "df['Negotiation Type'].unique()"
   ]
  },
  {
   "cell_type": "markdown",
   "metadata": {},
   "source": [
    "## Data cleaning\n",
    "___"
   ]
  },
  {
   "cell_type": "code",
   "execution_count": 13,
   "metadata": {},
   "outputs": [
    {
     "data": {
      "text/plain": [
       "(13640, 16)"
      ]
     },
     "execution_count": 13,
     "metadata": {},
     "output_type": "execute_result"
    }
   ],
   "source": [
    "df.shape"
   ]
  },
  {
   "cell_type": "code",
   "execution_count": 14,
   "metadata": {},
   "outputs": [
    {
     "name": "stdout",
     "output_type": "stream",
     "text": [
      "Total duplicate observations: 319\n"
     ]
    }
   ],
   "source": [
    "# Total observations\n",
    "print(f\"Total duplicate observations: {df.duplicated().sum()}\")\n",
    "\n",
    "# Removing duplicate values\n",
    "df2 = df.drop_duplicates()"
   ]
  },
  {
   "cell_type": "code",
   "execution_count": 15,
   "metadata": {},
   "outputs": [
    {
     "data": {
      "text/plain": [
       "(13321, 15)"
      ]
     },
     "execution_count": 15,
     "metadata": {},
     "output_type": "execute_result"
    }
   ],
   "source": [
    "# Removing column \"Property Type\"\n",
    "# Regarding to \"Property Type\", all observations are apartments\n",
    "df2 = df2.drop('Property Type', axis=1)\n",
    "df2.shape"
   ]
  },
  {
   "cell_type": "code",
   "execution_count": 16,
   "metadata": {},
   "outputs": [],
   "source": [
    "# Treatment of categorical variables\n",
    "\n",
    "# Pre processing of variables\n",
    "# This step is performed so that the variables one-hot-encoded work on split data\n",
    "df2[\"District\"] = pd.Categorical(df2[\"District\"])\n",
    "\n",
    "# One hot encoding of categorical variables string 'District' \n",
    "df2 = pd.get_dummies(df2, columns=['District'])"
   ]
  },
  {
   "cell_type": "code",
   "execution_count": 17,
   "metadata": {},
   "outputs": [
    {
     "data": {
      "text/plain": [
       "(13321, 110)"
      ]
     },
     "execution_count": 17,
     "metadata": {},
     "output_type": "execute_result"
    }
   ],
   "source": [
    "df2.shape"
   ]
  },
  {
   "cell_type": "code",
   "execution_count": 18,
   "metadata": {},
   "outputs": [],
   "source": [
    "# Setting to display all dataframe columns\n",
    "pd.set_option(\"display.max_columns\", None)"
   ]
  },
  {
   "cell_type": "code",
   "execution_count": 19,
   "metadata": {},
   "outputs": [
    {
     "data": {
      "text/html": [
       "<div>\n",
       "<style scoped>\n",
       "    .dataframe tbody tr th:only-of-type {\n",
       "        vertical-align: middle;\n",
       "    }\n",
       "\n",
       "    .dataframe tbody tr th {\n",
       "        vertical-align: top;\n",
       "    }\n",
       "\n",
       "    .dataframe thead th {\n",
       "        text-align: right;\n",
       "    }\n",
       "</style>\n",
       "<table border=\"1\" class=\"dataframe\">\n",
       "  <thead>\n",
       "    <tr style=\"text-align: right;\">\n",
       "      <th></th>\n",
       "      <th>Price</th>\n",
       "      <th>Condo</th>\n",
       "      <th>Size</th>\n",
       "      <th>Rooms</th>\n",
       "      <th>Toilets</th>\n",
       "      <th>Suites</th>\n",
       "      <th>Parking</th>\n",
       "      <th>Elevator</th>\n",
       "      <th>Furnished</th>\n",
       "      <th>Swimming Pool</th>\n",
       "      <th>New</th>\n",
       "      <th>Negotiation Type</th>\n",
       "      <th>Latitude</th>\n",
       "      <th>Longitude</th>\n",
       "      <th>District_Alto de Pinheiros/São Paulo</th>\n",
       "      <th>District_Anhanguera/São Paulo</th>\n",
       "      <th>District_Aricanduva/São Paulo</th>\n",
       "      <th>District_Artur Alvim/São Paulo</th>\n",
       "      <th>District_Barra Funda/São Paulo</th>\n",
       "      <th>District_Bela Vista/São Paulo</th>\n",
       "      <th>District_Belém/São Paulo</th>\n",
       "      <th>District_Bom Retiro/São Paulo</th>\n",
       "      <th>District_Brasilândia/São Paulo</th>\n",
       "      <th>District_Brooklin/São Paulo</th>\n",
       "      <th>District_Brás/São Paulo</th>\n",
       "      <th>District_Butantã/São Paulo</th>\n",
       "      <th>District_Cachoeirinha/São Paulo</th>\n",
       "      <th>District_Cambuci/São Paulo</th>\n",
       "      <th>District_Campo Belo/São Paulo</th>\n",
       "      <th>District_Campo Grande/São Paulo</th>\n",
       "      <th>District_Campo Limpo/São Paulo</th>\n",
       "      <th>District_Cangaíba/São Paulo</th>\n",
       "      <th>District_Capão Redondo/São Paulo</th>\n",
       "      <th>District_Carrão/São Paulo</th>\n",
       "      <th>District_Casa Verde/São Paulo</th>\n",
       "      <th>District_Cidade Ademar/São Paulo</th>\n",
       "      <th>District_Cidade Dutra/São Paulo</th>\n",
       "      <th>District_Cidade Líder/São Paulo</th>\n",
       "      <th>District_Cidade Tiradentes/São Paulo</th>\n",
       "      <th>District_Consolação/São Paulo</th>\n",
       "      <th>District_Cursino/São Paulo</th>\n",
       "      <th>District_Ermelino Matarazzo/São Paulo</th>\n",
       "      <th>District_Freguesia do Ó/São Paulo</th>\n",
       "      <th>District_Grajaú/São Paulo</th>\n",
       "      <th>District_Guaianazes/São Paulo</th>\n",
       "      <th>District_Iguatemi/São Paulo</th>\n",
       "      <th>District_Ipiranga/São Paulo</th>\n",
       "      <th>District_Itaim Bibi/São Paulo</th>\n",
       "      <th>District_Itaim Paulista/São Paulo</th>\n",
       "      <th>District_Itaquera/São Paulo</th>\n",
       "      <th>District_Jabaquara/São Paulo</th>\n",
       "      <th>District_Jaguaré/São Paulo</th>\n",
       "      <th>District_Jaraguá/São Paulo</th>\n",
       "      <th>District_Jardim Helena/São Paulo</th>\n",
       "      <th>District_Jardim Paulista/São Paulo</th>\n",
       "      <th>District_Jardim São Luis/São Paulo</th>\n",
       "      <th>District_Jardim Ângela/São Paulo</th>\n",
       "      <th>District_Jaçanã/São Paulo</th>\n",
       "      <th>District_José Bonifácio/São Paulo</th>\n",
       "      <th>District_Lajeado/São Paulo</th>\n",
       "      <th>District_Lapa/São Paulo</th>\n",
       "      <th>District_Liberdade/São Paulo</th>\n",
       "      <th>District_Limão/São Paulo</th>\n",
       "      <th>District_Mandaqui/São Paulo</th>\n",
       "      <th>District_Medeiros/São Paulo</th>\n",
       "      <th>District_Moema/São Paulo</th>\n",
       "      <th>District_Mooca/São Paulo</th>\n",
       "      <th>District_Morumbi/São Paulo</th>\n",
       "      <th>District_Pari/São Paulo</th>\n",
       "      <th>District_Parque do Carmo/São Paulo</th>\n",
       "      <th>District_Pedreira/São Paulo</th>\n",
       "      <th>District_Penha/São Paulo</th>\n",
       "      <th>District_Perdizes/São Paulo</th>\n",
       "      <th>District_Perus/São Paulo</th>\n",
       "      <th>District_Pinheiros/São Paulo</th>\n",
       "      <th>District_Pirituba/São Paulo</th>\n",
       "      <th>District_Ponte Rasa/São Paulo</th>\n",
       "      <th>District_Raposo Tavares/São Paulo</th>\n",
       "      <th>District_República/São Paulo</th>\n",
       "      <th>District_Rio Pequeno/São Paulo</th>\n",
       "      <th>District_Sacomã/São Paulo</th>\n",
       "      <th>District_Santa Cecília/São Paulo</th>\n",
       "      <th>District_Santana/São Paulo</th>\n",
       "      <th>District_Santo Amaro/São Paulo</th>\n",
       "      <th>District_Sapopemba/São Paulo</th>\n",
       "      <th>District_Saúde/São Paulo</th>\n",
       "      <th>District_Socorro/São Paulo</th>\n",
       "      <th>District_São Domingos/São Paulo</th>\n",
       "      <th>District_São Lucas/São Paulo</th>\n",
       "      <th>District_São Mateus/São Paulo</th>\n",
       "      <th>District_São Miguel/São Paulo</th>\n",
       "      <th>District_São Rafael/São Paulo</th>\n",
       "      <th>District_Sé/São Paulo</th>\n",
       "      <th>District_Tatuapé/São Paulo</th>\n",
       "      <th>District_Tremembé/São Paulo</th>\n",
       "      <th>District_Tucuruvi/São Paulo</th>\n",
       "      <th>District_Vila Andrade/São Paulo</th>\n",
       "      <th>District_Vila Curuçá/São Paulo</th>\n",
       "      <th>District_Vila Formosa/São Paulo</th>\n",
       "      <th>District_Vila Guilherme/São Paulo</th>\n",
       "      <th>District_Vila Jacuí/São Paulo</th>\n",
       "      <th>District_Vila Leopoldina/São Paulo</th>\n",
       "      <th>District_Vila Madalena/São Paulo</th>\n",
       "      <th>District_Vila Maria/São Paulo</th>\n",
       "      <th>District_Vila Mariana/São Paulo</th>\n",
       "      <th>District_Vila Matilde/São Paulo</th>\n",
       "      <th>District_Vila Olimpia/São Paulo</th>\n",
       "      <th>District_Vila Prudente/São Paulo</th>\n",
       "      <th>District_Vila Sônia/São Paulo</th>\n",
       "      <th>District_Água Rasa/São Paulo</th>\n",
       "    </tr>\n",
       "  </thead>\n",
       "  <tbody>\n",
       "    <tr>\n",
       "      <th>0</th>\n",
       "      <td>930</td>\n",
       "      <td>220</td>\n",
       "      <td>47</td>\n",
       "      <td>2</td>\n",
       "      <td>2</td>\n",
       "      <td>1</td>\n",
       "      <td>1</td>\n",
       "      <td>0</td>\n",
       "      <td>0</td>\n",
       "      <td>0</td>\n",
       "      <td>0</td>\n",
       "      <td>rent</td>\n",
       "      <td>-23.543138</td>\n",
       "      <td>-46.479486</td>\n",
       "      <td>0</td>\n",
       "      <td>0</td>\n",
       "      <td>0</td>\n",
       "      <td>1</td>\n",
       "      <td>0</td>\n",
       "      <td>0</td>\n",
       "      <td>0</td>\n",
       "      <td>0</td>\n",
       "      <td>0</td>\n",
       "      <td>0</td>\n",
       "      <td>0</td>\n",
       "      <td>0</td>\n",
       "      <td>0</td>\n",
       "      <td>0</td>\n",
       "      <td>0</td>\n",
       "      <td>0</td>\n",
       "      <td>0</td>\n",
       "      <td>0</td>\n",
       "      <td>0</td>\n",
       "      <td>0</td>\n",
       "      <td>0</td>\n",
       "      <td>0</td>\n",
       "      <td>0</td>\n",
       "      <td>0</td>\n",
       "      <td>0</td>\n",
       "      <td>0</td>\n",
       "      <td>0</td>\n",
       "      <td>0</td>\n",
       "      <td>0</td>\n",
       "      <td>0</td>\n",
       "      <td>0</td>\n",
       "      <td>0</td>\n",
       "      <td>0</td>\n",
       "      <td>0</td>\n",
       "      <td>0</td>\n",
       "      <td>0</td>\n",
       "      <td>0</td>\n",
       "      <td>0</td>\n",
       "      <td>0</td>\n",
       "      <td>0</td>\n",
       "      <td>0</td>\n",
       "      <td>0</td>\n",
       "      <td>0</td>\n",
       "      <td>0</td>\n",
       "      <td>0</td>\n",
       "      <td>0</td>\n",
       "      <td>0</td>\n",
       "      <td>0</td>\n",
       "      <td>0</td>\n",
       "      <td>0</td>\n",
       "      <td>0</td>\n",
       "      <td>0</td>\n",
       "      <td>0</td>\n",
       "      <td>0</td>\n",
       "      <td>0</td>\n",
       "      <td>0</td>\n",
       "      <td>0</td>\n",
       "      <td>0</td>\n",
       "      <td>0</td>\n",
       "      <td>0</td>\n",
       "      <td>0</td>\n",
       "      <td>0</td>\n",
       "      <td>0</td>\n",
       "      <td>0</td>\n",
       "      <td>0</td>\n",
       "      <td>0</td>\n",
       "      <td>0</td>\n",
       "      <td>0</td>\n",
       "      <td>0</td>\n",
       "      <td>0</td>\n",
       "      <td>0</td>\n",
       "      <td>0</td>\n",
       "      <td>0</td>\n",
       "      <td>0</td>\n",
       "      <td>0</td>\n",
       "      <td>0</td>\n",
       "      <td>0</td>\n",
       "      <td>0</td>\n",
       "      <td>0</td>\n",
       "      <td>0</td>\n",
       "      <td>0</td>\n",
       "      <td>0</td>\n",
       "      <td>0</td>\n",
       "      <td>0</td>\n",
       "      <td>0</td>\n",
       "      <td>0</td>\n",
       "      <td>0</td>\n",
       "      <td>0</td>\n",
       "      <td>0</td>\n",
       "      <td>0</td>\n",
       "      <td>0</td>\n",
       "      <td>0</td>\n",
       "      <td>0</td>\n",
       "      <td>0</td>\n",
       "      <td>0</td>\n",
       "      <td>0</td>\n",
       "    </tr>\n",
       "    <tr>\n",
       "      <th>1</th>\n",
       "      <td>1000</td>\n",
       "      <td>148</td>\n",
       "      <td>45</td>\n",
       "      <td>2</td>\n",
       "      <td>2</td>\n",
       "      <td>1</td>\n",
       "      <td>1</td>\n",
       "      <td>0</td>\n",
       "      <td>0</td>\n",
       "      <td>0</td>\n",
       "      <td>0</td>\n",
       "      <td>rent</td>\n",
       "      <td>-23.550239</td>\n",
       "      <td>-46.480718</td>\n",
       "      <td>0</td>\n",
       "      <td>0</td>\n",
       "      <td>0</td>\n",
       "      <td>1</td>\n",
       "      <td>0</td>\n",
       "      <td>0</td>\n",
       "      <td>0</td>\n",
       "      <td>0</td>\n",
       "      <td>0</td>\n",
       "      <td>0</td>\n",
       "      <td>0</td>\n",
       "      <td>0</td>\n",
       "      <td>0</td>\n",
       "      <td>0</td>\n",
       "      <td>0</td>\n",
       "      <td>0</td>\n",
       "      <td>0</td>\n",
       "      <td>0</td>\n",
       "      <td>0</td>\n",
       "      <td>0</td>\n",
       "      <td>0</td>\n",
       "      <td>0</td>\n",
       "      <td>0</td>\n",
       "      <td>0</td>\n",
       "      <td>0</td>\n",
       "      <td>0</td>\n",
       "      <td>0</td>\n",
       "      <td>0</td>\n",
       "      <td>0</td>\n",
       "      <td>0</td>\n",
       "      <td>0</td>\n",
       "      <td>0</td>\n",
       "      <td>0</td>\n",
       "      <td>0</td>\n",
       "      <td>0</td>\n",
       "      <td>0</td>\n",
       "      <td>0</td>\n",
       "      <td>0</td>\n",
       "      <td>0</td>\n",
       "      <td>0</td>\n",
       "      <td>0</td>\n",
       "      <td>0</td>\n",
       "      <td>0</td>\n",
       "      <td>0</td>\n",
       "      <td>0</td>\n",
       "      <td>0</td>\n",
       "      <td>0</td>\n",
       "      <td>0</td>\n",
       "      <td>0</td>\n",
       "      <td>0</td>\n",
       "      <td>0</td>\n",
       "      <td>0</td>\n",
       "      <td>0</td>\n",
       "      <td>0</td>\n",
       "      <td>0</td>\n",
       "      <td>0</td>\n",
       "      <td>0</td>\n",
       "      <td>0</td>\n",
       "      <td>0</td>\n",
       "      <td>0</td>\n",
       "      <td>0</td>\n",
       "      <td>0</td>\n",
       "      <td>0</td>\n",
       "      <td>0</td>\n",
       "      <td>0</td>\n",
       "      <td>0</td>\n",
       "      <td>0</td>\n",
       "      <td>0</td>\n",
       "      <td>0</td>\n",
       "      <td>0</td>\n",
       "      <td>0</td>\n",
       "      <td>0</td>\n",
       "      <td>0</td>\n",
       "      <td>0</td>\n",
       "      <td>0</td>\n",
       "      <td>0</td>\n",
       "      <td>0</td>\n",
       "      <td>0</td>\n",
       "      <td>0</td>\n",
       "      <td>0</td>\n",
       "      <td>0</td>\n",
       "      <td>0</td>\n",
       "      <td>0</td>\n",
       "      <td>0</td>\n",
       "      <td>0</td>\n",
       "      <td>0</td>\n",
       "      <td>0</td>\n",
       "      <td>0</td>\n",
       "      <td>0</td>\n",
       "      <td>0</td>\n",
       "      <td>0</td>\n",
       "      <td>0</td>\n",
       "      <td>0</td>\n",
       "      <td>0</td>\n",
       "      <td>0</td>\n",
       "      <td>0</td>\n",
       "    </tr>\n",
       "    <tr>\n",
       "      <th>2</th>\n",
       "      <td>1000</td>\n",
       "      <td>100</td>\n",
       "      <td>48</td>\n",
       "      <td>2</td>\n",
       "      <td>2</td>\n",
       "      <td>1</td>\n",
       "      <td>1</td>\n",
       "      <td>0</td>\n",
       "      <td>0</td>\n",
       "      <td>0</td>\n",
       "      <td>0</td>\n",
       "      <td>rent</td>\n",
       "      <td>-23.542818</td>\n",
       "      <td>-46.485665</td>\n",
       "      <td>0</td>\n",
       "      <td>0</td>\n",
       "      <td>0</td>\n",
       "      <td>1</td>\n",
       "      <td>0</td>\n",
       "      <td>0</td>\n",
       "      <td>0</td>\n",
       "      <td>0</td>\n",
       "      <td>0</td>\n",
       "      <td>0</td>\n",
       "      <td>0</td>\n",
       "      <td>0</td>\n",
       "      <td>0</td>\n",
       "      <td>0</td>\n",
       "      <td>0</td>\n",
       "      <td>0</td>\n",
       "      <td>0</td>\n",
       "      <td>0</td>\n",
       "      <td>0</td>\n",
       "      <td>0</td>\n",
       "      <td>0</td>\n",
       "      <td>0</td>\n",
       "      <td>0</td>\n",
       "      <td>0</td>\n",
       "      <td>0</td>\n",
       "      <td>0</td>\n",
       "      <td>0</td>\n",
       "      <td>0</td>\n",
       "      <td>0</td>\n",
       "      <td>0</td>\n",
       "      <td>0</td>\n",
       "      <td>0</td>\n",
       "      <td>0</td>\n",
       "      <td>0</td>\n",
       "      <td>0</td>\n",
       "      <td>0</td>\n",
       "      <td>0</td>\n",
       "      <td>0</td>\n",
       "      <td>0</td>\n",
       "      <td>0</td>\n",
       "      <td>0</td>\n",
       "      <td>0</td>\n",
       "      <td>0</td>\n",
       "      <td>0</td>\n",
       "      <td>0</td>\n",
       "      <td>0</td>\n",
       "      <td>0</td>\n",
       "      <td>0</td>\n",
       "      <td>0</td>\n",
       "      <td>0</td>\n",
       "      <td>0</td>\n",
       "      <td>0</td>\n",
       "      <td>0</td>\n",
       "      <td>0</td>\n",
       "      <td>0</td>\n",
       "      <td>0</td>\n",
       "      <td>0</td>\n",
       "      <td>0</td>\n",
       "      <td>0</td>\n",
       "      <td>0</td>\n",
       "      <td>0</td>\n",
       "      <td>0</td>\n",
       "      <td>0</td>\n",
       "      <td>0</td>\n",
       "      <td>0</td>\n",
       "      <td>0</td>\n",
       "      <td>0</td>\n",
       "      <td>0</td>\n",
       "      <td>0</td>\n",
       "      <td>0</td>\n",
       "      <td>0</td>\n",
       "      <td>0</td>\n",
       "      <td>0</td>\n",
       "      <td>0</td>\n",
       "      <td>0</td>\n",
       "      <td>0</td>\n",
       "      <td>0</td>\n",
       "      <td>0</td>\n",
       "      <td>0</td>\n",
       "      <td>0</td>\n",
       "      <td>0</td>\n",
       "      <td>0</td>\n",
       "      <td>0</td>\n",
       "      <td>0</td>\n",
       "      <td>0</td>\n",
       "      <td>0</td>\n",
       "      <td>0</td>\n",
       "      <td>0</td>\n",
       "      <td>0</td>\n",
       "      <td>0</td>\n",
       "      <td>0</td>\n",
       "      <td>0</td>\n",
       "      <td>0</td>\n",
       "      <td>0</td>\n",
       "      <td>0</td>\n",
       "      <td>0</td>\n",
       "    </tr>\n",
       "  </tbody>\n",
       "</table>\n",
       "</div>"
      ],
      "text/plain": [
       "   Price  Condo  Size  Rooms  Toilets  Suites  Parking  Elevator  Furnished  \\\n",
       "0    930    220    47      2        2       1        1         0          0   \n",
       "1   1000    148    45      2        2       1        1         0          0   \n",
       "2   1000    100    48      2        2       1        1         0          0   \n",
       "\n",
       "   Swimming Pool  New Negotiation Type   Latitude  Longitude  \\\n",
       "0              0    0             rent -23.543138 -46.479486   \n",
       "1              0    0             rent -23.550239 -46.480718   \n",
       "2              0    0             rent -23.542818 -46.485665   \n",
       "\n",
       "   District_Alto de Pinheiros/São Paulo  District_Anhanguera/São Paulo  \\\n",
       "0                                     0                              0   \n",
       "1                                     0                              0   \n",
       "2                                     0                              0   \n",
       "\n",
       "   District_Aricanduva/São Paulo  District_Artur Alvim/São Paulo  \\\n",
       "0                              0                               1   \n",
       "1                              0                               1   \n",
       "2                              0                               1   \n",
       "\n",
       "   District_Barra Funda/São Paulo  District_Bela Vista/São Paulo  \\\n",
       "0                               0                              0   \n",
       "1                               0                              0   \n",
       "2                               0                              0   \n",
       "\n",
       "   District_Belém/São Paulo  District_Bom Retiro/São Paulo  \\\n",
       "0                         0                              0   \n",
       "1                         0                              0   \n",
       "2                         0                              0   \n",
       "\n",
       "   District_Brasilândia/São Paulo  District_Brooklin/São Paulo  \\\n",
       "0                               0                            0   \n",
       "1                               0                            0   \n",
       "2                               0                            0   \n",
       "\n",
       "   District_Brás/São Paulo  District_Butantã/São Paulo  \\\n",
       "0                        0                           0   \n",
       "1                        0                           0   \n",
       "2                        0                           0   \n",
       "\n",
       "   District_Cachoeirinha/São Paulo  District_Cambuci/São Paulo  \\\n",
       "0                                0                           0   \n",
       "1                                0                           0   \n",
       "2                                0                           0   \n",
       "\n",
       "   District_Campo Belo/São Paulo  District_Campo Grande/São Paulo  \\\n",
       "0                              0                                0   \n",
       "1                              0                                0   \n",
       "2                              0                                0   \n",
       "\n",
       "   District_Campo Limpo/São Paulo  District_Cangaíba/São Paulo  \\\n",
       "0                               0                            0   \n",
       "1                               0                            0   \n",
       "2                               0                            0   \n",
       "\n",
       "   District_Capão Redondo/São Paulo  District_Carrão/São Paulo  \\\n",
       "0                                 0                          0   \n",
       "1                                 0                          0   \n",
       "2                                 0                          0   \n",
       "\n",
       "   District_Casa Verde/São Paulo  District_Cidade Ademar/São Paulo  \\\n",
       "0                              0                                 0   \n",
       "1                              0                                 0   \n",
       "2                              0                                 0   \n",
       "\n",
       "   District_Cidade Dutra/São Paulo  District_Cidade Líder/São Paulo  \\\n",
       "0                                0                                0   \n",
       "1                                0                                0   \n",
       "2                                0                                0   \n",
       "\n",
       "   District_Cidade Tiradentes/São Paulo  District_Consolação/São Paulo  \\\n",
       "0                                     0                              0   \n",
       "1                                     0                              0   \n",
       "2                                     0                              0   \n",
       "\n",
       "   District_Cursino/São Paulo  District_Ermelino Matarazzo/São Paulo  \\\n",
       "0                           0                                      0   \n",
       "1                           0                                      0   \n",
       "2                           0                                      0   \n",
       "\n",
       "   District_Freguesia do Ó/São Paulo  District_Grajaú/São Paulo  \\\n",
       "0                                  0                          0   \n",
       "1                                  0                          0   \n",
       "2                                  0                          0   \n",
       "\n",
       "   District_Guaianazes/São Paulo  District_Iguatemi/São Paulo  \\\n",
       "0                              0                            0   \n",
       "1                              0                            0   \n",
       "2                              0                            0   \n",
       "\n",
       "   District_Ipiranga/São Paulo  District_Itaim Bibi/São Paulo  \\\n",
       "0                            0                              0   \n",
       "1                            0                              0   \n",
       "2                            0                              0   \n",
       "\n",
       "   District_Itaim Paulista/São Paulo  District_Itaquera/São Paulo  \\\n",
       "0                                  0                            0   \n",
       "1                                  0                            0   \n",
       "2                                  0                            0   \n",
       "\n",
       "   District_Jabaquara/São Paulo  District_Jaguaré/São Paulo  \\\n",
       "0                             0                           0   \n",
       "1                             0                           0   \n",
       "2                             0                           0   \n",
       "\n",
       "   District_Jaraguá/São Paulo  District_Jardim Helena/São Paulo  \\\n",
       "0                           0                                 0   \n",
       "1                           0                                 0   \n",
       "2                           0                                 0   \n",
       "\n",
       "   District_Jardim Paulista/São Paulo  District_Jardim São Luis/São Paulo  \\\n",
       "0                                   0                                   0   \n",
       "1                                   0                                   0   \n",
       "2                                   0                                   0   \n",
       "\n",
       "   District_Jardim Ângela/São Paulo  District_Jaçanã/São Paulo  \\\n",
       "0                                 0                          0   \n",
       "1                                 0                          0   \n",
       "2                                 0                          0   \n",
       "\n",
       "   District_José Bonifácio/São Paulo  District_Lajeado/São Paulo  \\\n",
       "0                                  0                           0   \n",
       "1                                  0                           0   \n",
       "2                                  0                           0   \n",
       "\n",
       "   District_Lapa/São Paulo  District_Liberdade/São Paulo  \\\n",
       "0                        0                             0   \n",
       "1                        0                             0   \n",
       "2                        0                             0   \n",
       "\n",
       "   District_Limão/São Paulo  District_Mandaqui/São Paulo  \\\n",
       "0                         0                            0   \n",
       "1                         0                            0   \n",
       "2                         0                            0   \n",
       "\n",
       "   District_Medeiros/São Paulo  District_Moema/São Paulo  \\\n",
       "0                            0                         0   \n",
       "1                            0                         0   \n",
       "2                            0                         0   \n",
       "\n",
       "   District_Mooca/São Paulo  District_Morumbi/São Paulo  \\\n",
       "0                         0                           0   \n",
       "1                         0                           0   \n",
       "2                         0                           0   \n",
       "\n",
       "   District_Pari/São Paulo  District_Parque do Carmo/São Paulo  \\\n",
       "0                        0                                   0   \n",
       "1                        0                                   0   \n",
       "2                        0                                   0   \n",
       "\n",
       "   District_Pedreira/São Paulo  District_Penha/São Paulo  \\\n",
       "0                            0                         0   \n",
       "1                            0                         0   \n",
       "2                            0                         0   \n",
       "\n",
       "   District_Perdizes/São Paulo  District_Perus/São Paulo  \\\n",
       "0                            0                         0   \n",
       "1                            0                         0   \n",
       "2                            0                         0   \n",
       "\n",
       "   District_Pinheiros/São Paulo  District_Pirituba/São Paulo  \\\n",
       "0                             0                            0   \n",
       "1                             0                            0   \n",
       "2                             0                            0   \n",
       "\n",
       "   District_Ponte Rasa/São Paulo  District_Raposo Tavares/São Paulo  \\\n",
       "0                              0                                  0   \n",
       "1                              0                                  0   \n",
       "2                              0                                  0   \n",
       "\n",
       "   District_República/São Paulo  District_Rio Pequeno/São Paulo  \\\n",
       "0                             0                               0   \n",
       "1                             0                               0   \n",
       "2                             0                               0   \n",
       "\n",
       "   District_Sacomã/São Paulo  District_Santa Cecília/São Paulo  \\\n",
       "0                          0                                 0   \n",
       "1                          0                                 0   \n",
       "2                          0                                 0   \n",
       "\n",
       "   District_Santana/São Paulo  District_Santo Amaro/São Paulo  \\\n",
       "0                           0                               0   \n",
       "1                           0                               0   \n",
       "2                           0                               0   \n",
       "\n",
       "   District_Sapopemba/São Paulo  District_Saúde/São Paulo  \\\n",
       "0                             0                         0   \n",
       "1                             0                         0   \n",
       "2                             0                         0   \n",
       "\n",
       "   District_Socorro/São Paulo  District_São Domingos/São Paulo  \\\n",
       "0                           0                                0   \n",
       "1                           0                                0   \n",
       "2                           0                                0   \n",
       "\n",
       "   District_São Lucas/São Paulo  District_São Mateus/São Paulo  \\\n",
       "0                             0                              0   \n",
       "1                             0                              0   \n",
       "2                             0                              0   \n",
       "\n",
       "   District_São Miguel/São Paulo  District_São Rafael/São Paulo  \\\n",
       "0                              0                              0   \n",
       "1                              0                              0   \n",
       "2                              0                              0   \n",
       "\n",
       "   District_Sé/São Paulo  District_Tatuapé/São Paulo  \\\n",
       "0                      0                           0   \n",
       "1                      0                           0   \n",
       "2                      0                           0   \n",
       "\n",
       "   District_Tremembé/São Paulo  District_Tucuruvi/São Paulo  \\\n",
       "0                            0                            0   \n",
       "1                            0                            0   \n",
       "2                            0                            0   \n",
       "\n",
       "   District_Vila Andrade/São Paulo  District_Vila Curuçá/São Paulo  \\\n",
       "0                                0                               0   \n",
       "1                                0                               0   \n",
       "2                                0                               0   \n",
       "\n",
       "   District_Vila Formosa/São Paulo  District_Vila Guilherme/São Paulo  \\\n",
       "0                                0                                  0   \n",
       "1                                0                                  0   \n",
       "2                                0                                  0   \n",
       "\n",
       "   District_Vila Jacuí/São Paulo  District_Vila Leopoldina/São Paulo  \\\n",
       "0                              0                                   0   \n",
       "1                              0                                   0   \n",
       "2                              0                                   0   \n",
       "\n",
       "   District_Vila Madalena/São Paulo  District_Vila Maria/São Paulo  \\\n",
       "0                                 0                              0   \n",
       "1                                 0                              0   \n",
       "2                                 0                              0   \n",
       "\n",
       "   District_Vila Mariana/São Paulo  District_Vila Matilde/São Paulo  \\\n",
       "0                                0                                0   \n",
       "1                                0                                0   \n",
       "2                                0                                0   \n",
       "\n",
       "   District_Vila Olimpia/São Paulo  District_Vila Prudente/São Paulo  \\\n",
       "0                                0                                 0   \n",
       "1                                0                                 0   \n",
       "2                                0                                 0   \n",
       "\n",
       "   District_Vila Sônia/São Paulo  District_Água Rasa/São Paulo  \n",
       "0                              0                             0  \n",
       "1                              0                             0  \n",
       "2                              0                             0  "
      ]
     },
     "execution_count": 19,
     "metadata": {},
     "output_type": "execute_result"
    }
   ],
   "source": [
    "df2.head(3)"
   ]
  },
  {
   "cell_type": "code",
   "execution_count": 20,
   "metadata": {},
   "outputs": [],
   "source": [
    "# Reset pandas display default setting\n",
    "pd.reset_option(\"all\")"
   ]
  },
  {
   "cell_type": "code",
   "execution_count": 21,
   "metadata": {},
   "outputs": [],
   "source": [
    "# Removing the variables Latitude and Longitude\n",
    "df2 = df2.drop([\"Latitude\", \"Longitude\"], axis=1)"
   ]
  },
  {
   "cell_type": "code",
   "execution_count": 22,
   "metadata": {},
   "outputs": [
    {
     "name": "stdout",
     "output_type": "stream",
     "text": [
      "Columns containing float values: 0\n"
     ]
    }
   ],
   "source": [
    "# Checking columns that have float\n",
    "mask = df2.dtypes == np.float\n",
    "print(f\"Columns containing float values: {len(df2.columns[mask])}\")"
   ]
  },
  {
   "cell_type": "markdown",
   "metadata": {},
   "source": [
    "The dataset has information regarding apartments for rent and sale. Therefore, a filter will be used to extract the observations regarding the sale.\n",
    "\n",
    "Once the variable referring to the type of negotiation (rent or sale) was filtered, this property becomes dispensable, since all the observations of the subset obtained refer to the same type of negotiation."
   ]
  },
  {
   "cell_type": "code",
   "execution_count": 23,
   "metadata": {},
   "outputs": [
    {
     "data": {
      "text/plain": [
       "array(['rent', 'sale'], dtype=object)"
      ]
     },
     "execution_count": 23,
     "metadata": {},
     "output_type": "execute_result"
    }
   ],
   "source": [
    "df2['Negotiation Type'].unique()"
   ]
  },
  {
   "cell_type": "code",
   "execution_count": 24,
   "metadata": {},
   "outputs": [
    {
     "data": {
      "text/plain": [
       "(6302, 107)"
      ]
     },
     "execution_count": 24,
     "metadata": {},
     "output_type": "execute_result"
    }
   ],
   "source": [
    "# Filtering the observations referring to the sale \n",
    "mask = df2['Negotiation Type'] == \"sale\"\n",
    "df_sale = df2[mask]\n",
    "\n",
    "# Removing variable 'Negotiation Type' (now they all refer to sale) \n",
    "df_sale = df_sale.drop('Negotiation Type', axis=1)\n",
    "\n",
    "# Checking the subset shape\n",
    "df_sale.shape"
   ]
  },
  {
   "cell_type": "markdown",
   "metadata": {},
   "source": [
    "Features and target obtained: "
   ]
  },
  {
   "cell_type": "code",
   "execution_count": 25,
   "metadata": {},
   "outputs": [],
   "source": [
    "district = []\n",
    "\n",
    "for name in df2.columns:\n",
    "    if \"District\" in name:\n",
    "        district.append(name)"
   ]
  },
  {
   "cell_type": "code",
   "execution_count": 26,
   "metadata": {},
   "outputs": [],
   "source": [
    "mask_y = ['Price']\n",
    "\n",
    "\n",
    "mask_metric_cols = ['Condo', 'Size', 'Rooms', 'Toilets', 'Suites', 'Parking']\n",
    "\n",
    "\n",
    "mask_categorical_cols = ['Elevator', 'Furnished', 'Swimming Pool', 'New']\n",
    "\n",
    "mask_categorical_dummies_cols = district"
   ]
  },
  {
   "cell_type": "markdown",
   "metadata": {},
   "source": [
    "## Spliting train and test set\n",
    "---\n"
   ]
  },
  {
   "cell_type": "code",
   "execution_count": 27,
   "metadata": {},
   "outputs": [],
   "source": [
    "from sklearn.model_selection import train_test_split"
   ]
  },
  {
   "cell_type": "code",
   "execution_count": 28,
   "metadata": {},
   "outputs": [],
   "source": [
    "# Separating the training and test sets\n",
    "\n",
    "# Separating the dataset with one hot encoded features (dummies)\n",
    "X_sale = df_sale.drop('Price', axis=1)\n",
    "y_sale = df_sale.Price\n",
    "\n",
    "X_sale_train, X_sale_test, y_sale_train, y_sale_test = train_test_split(X_sale, y_sale, test_size=0.3, random_state=42)"
   ]
  },
  {
   "cell_type": "code",
   "execution_count": 29,
   "metadata": {},
   "outputs": [],
   "source": [
    "# Separating the dataset with features that are not one hot encoded (dummies)\n",
    "X_sale_not_ohc = df_sale.drop(['Price'] + district, axis=1)\n",
    "y_sale_not_ohc = df_sale.Price\n",
    "\n",
    "X_sale_train_not_ohc, X_sale_test_not_ohc, y_sale_train_not_ohc, y_sale_test_not_ohc = train_test_split(X_sale_not_ohc, y_sale_not_ohc, test_size=0.3, random_state=42)"
   ]
  },
  {
   "cell_type": "code",
   "execution_count": 30,
   "metadata": {},
   "outputs": [
    {
     "data": {
      "text/plain": [
       "True"
      ]
     },
     "execution_count": 30,
     "metadata": {},
     "output_type": "execute_result"
    }
   ],
   "source": [
    "# Comparing subset indices to ensure they are identical since the same random_state was used\n",
    "(X_sale_train_not_ohc.index == X_sale_train.index).all()"
   ]
  },
  {
   "cell_type": "markdown",
   "metadata": {},
   "source": [
    "## Transforming target\n",
    "___"
   ]
  },
  {
   "cell_type": "markdown",
   "metadata": {},
   "source": [
    "With a normally distributed target variable, better results are usually obtained.\n",
    "\n",
    "First, the distribution of the target variable was verified. And then, if it did not have a normal distribution, a transformation method was applied, such as log, square root or box cox."
   ]
  },
  {
   "cell_type": "code",
   "execution_count": 31,
   "metadata": {},
   "outputs": [
    {
     "data": {
      "text/plain": [
       "NormaltestResult(statistic=6419.569293214452, pvalue=0.0)"
      ]
     },
     "execution_count": 31,
     "metadata": {},
     "output_type": "execute_result"
    }
   ],
   "source": [
    "from scipy.stats.mstats import normaltest # D'Agostino K^2 Test\n",
    "\n",
    "# Applying the D'Agostino K² statistical test to verify the distribution of the target variable\n",
    "p_original_sale = normaltest(df_sale.Price.values)\n",
    "p_original_sale"
   ]
  },
  {
   "cell_type": "code",
   "execution_count": 32,
   "metadata": {},
   "outputs": [
    {
     "data": {
      "image/png": "[encoded data removed]",
      "text/plain": [
       "<Figure size 792x360 with 1 Axes>"
      ]
     },
     "metadata": {
      "needs_background": "light"
     },
     "output_type": "display_data"
    }
   ],
   "source": [
    "# Visually checking if the target variable is well distributed\n",
    "n_bins = 20\n",
    "plt.figure(figsize=(11,5))\n",
    "\n",
    "df_sale.Price.hist(bins=40, facecolor='#2ab0ff', edgecolor='#e0e0e0', linewidth=0.5)\n",
    "\n",
    "plt.title(f\"Distribution of y for the purchase of real estate \\n p-value: {p_original_sale[1]:.3f}\", \n",
    "          fontsize=12)\n",
    "\n",
    "plt.show()"
   ]
  },
  {
   "cell_type": "markdown",
   "metadata": {},
   "source": [
    "It is possible to observe, both visually and according to the D'Agostino K² statistical test, that the variable y does not have a normal distribution. The proposition p > 0.05 is false."
   ]
  },
  {
   "cell_type": "markdown",
   "metadata": {},
   "source": [
    "To apply the most appropriate transformation, the target variable transformation method was screened."
   ]
  },
  {
   "cell_type": "code",
   "execution_count": 33,
   "metadata": {},
   "outputs": [],
   "source": [
    "from scipy.stats import boxcox"
   ]
  },
  {
   "cell_type": "code",
   "execution_count": 34,
   "metadata": {},
   "outputs": [],
   "source": [
    "# Applying Log, Square root or Box cox transformations\n",
    "\n",
    "log_y = np.log(df_sale.Price) # Log tranformation\n",
    "\n",
    "sqrt_y = np.sqrt(df_sale.Price) # Square root transformation\n",
    "\n",
    "# Boxcox transformation\n",
    "bc_y = boxcox(df_sale.Price)\n",
    "boxcox_y = bc_y[0]\n",
    "lam = bc_y[1]"
   ]
  },
  {
   "cell_type": "code",
   "execution_count": 35,
   "metadata": {},
   "outputs": [],
   "source": [
    "# Applying the D'Agostino K² statistical test to verify the distribution of the target variable\n",
    "\n",
    "p_log = normaltest(log_y)\n",
    "p_sqrt = normaltest(sqrt_y)\n",
    "p_boxcox = normaltest(boxcox_y)"
   ]
  },
  {
   "cell_type": "code",
   "execution_count": 36,
   "metadata": {},
   "outputs": [],
   "source": [
    "# Function to set the histogram color formatting\n",
    "def color_format(n, patches):\n",
    "    n = n.astype('int') # Must be integer\n",
    "    # Loop to assign the color according to the colormap\n",
    "    for i in range(len(patches)):\n",
    "        patches[i].set_facecolor(plt.cm.viridis(n[i]/max(n)))"
   ]
  },
  {
   "cell_type": "code",
   "execution_count": 37,
   "metadata": {},
   "outputs": [
    {
     "data": {
      "image/png": "[encoded data removed]",
      "text/plain": [
       "<Figure size 1260x288 with 3 Axes>"
      ]
     },
     "metadata": {
      "needs_background": "light"
     },
     "output_type": "display_data"
    }
   ],
   "source": [
    "# Plotting the target distribution after each transformation\n",
    "# As well as the results of the respective statistical tests\n",
    "\n",
    "fig, axs = plt.subplots(1,3,\n",
    "                        figsize = (17.5,4),\n",
    "                        tight_layout = True)\n",
    "\n",
    "\n",
    "n, bins, patches = axs[0].hist(log_y, bins=40, facecolor='#2ab0ff', edgecolor='#e0e0e0', linewidth=0.3, alpha=0.6)\n",
    "color_format(n, patches) # Função que formata o estilo do gáfico\n",
    "n, bins, patches = axs[1].hist(sqrt_y, bins=40, facecolor='#2ab0ff', edgecolor='#e0e0e0', linewidth=0.3, alpha=0.6)\n",
    "color_format(n, patches)\n",
    "n, bins, patches = axs[2].hist(boxcox_y, bins=40, facecolor='#2ab0ff', edgecolor='#e0e0e0', linewidth=0.3, alpha=0.6)\n",
    "color_format(n, patches)\n",
    "\n",
    "\n",
    "# Inserting titles\n",
    "axs[0].set_title(f\"Log \\n p-value: {p_log[1]:.3f}\", fontsize=14)\n",
    "axs[1].set_title(f\"Square root  \\n p-value: {p_sqrt[1]:.3f}\", fontsize=14)\n",
    "axs[2].set_title(f\"Boxcox \\n p-value: {p_boxcox[1]:.3f}\", fontsize=14)\n",
    "\n",
    "fig.suptitle('Distribution of the target variable after its transformation', fontsize=16)\n",
    "plt.style.use('bmh')\n",
    "\n",
    "plt.show()"
   ]
  },
  {
   "cell_type": "markdown",
   "metadata": {},
   "source": [
    "Through the Boxcox transformation, it was possible to obtain a target variable with normal distribution (p > 0.05)."
   ]
  },
  {
   "cell_type": "markdown",
   "metadata": {},
   "source": [
    "## Linear Regression Model\n",
    "___"
   ]
  },
  {
   "cell_type": "markdown",
   "metadata": {},
   "source": [
    "Three Linear Regression models were performed: Simple Linear Regression, Linear Regression with Rigde regularization (L2) and Linear Regression with Lasso regularization (L1).\n",
    "\n",
    "In each case, the features were scaled using the MinMax procedure. The polynomial creation of features and the transformation of the target were also performed using BoxCox normalization.\n",
    "\n",
    "The model pipeline and GridSearch were used to experiment and select the hyperparameters.\n",
    "\n",
    "\n",
    "The prediction of each model with and without the categorical descriptive variables pre-processed by one-hot-encoding was analyzed.\n"
   ]
  },
  {
   "cell_type": "code",
   "execution_count": 38,
   "metadata": {},
   "outputs": [],
   "source": [
    "from sklearn.preprocessing import StandardScaler, PolynomialFeatures\n",
    "from sklearn.model_selection import KFold, cross_val_predict\n",
    "from sklearn.linear_model import LinearRegression, Lasso, Ridge\n",
    "from sklearn.preprocessing import MinMaxScaler\n",
    "from sklearn.metrics import mean_squared_error\n",
    "from sklearn.metrics import r2_score\n",
    "from sklearn.pipeline import Pipeline\n",
    "from scipy.special import inv_boxcox\n",
    "\n",
    "\n",
    "from sklearn.model_selection import GridSearchCV"
   ]
  },
  {
   "cell_type": "code",
   "execution_count": 39,
   "metadata": {},
   "outputs": [],
   "source": [
    "# Boxcox transformation\n",
    "y_boxcox = boxcox(y_sale_train)\n",
    "y_sale_train_bc = y_boxcox[0]\n",
    "lam = y_boxcox[1]"
   ]
  },
  {
   "cell_type": "code",
   "execution_count": 40,
   "metadata": {},
   "outputs": [],
   "source": [
    "# The KFold object tells the cross validation object how to split up the data\n",
    "\n",
    "kf = KFold(shuffle=True, random_state=72018, n_splits=5) # Data is split into five folds"
   ]
  },
  {
   "cell_type": "markdown",
   "metadata": {},
   "source": [
    "### **1. Linear regression**\n"
   ]
  },
  {
   "cell_type": "code",
   "execution_count": 41,
   "metadata": {},
   "outputs": [],
   "source": [
    "estimator = Pipeline([(\"scaler\", MinMaxScaler()),\n",
    "        (\"polynomial_features\", PolynomialFeatures()),\n",
    "        (\"ridge_regression\", LinearRegression())])\n",
    "\n",
    "params = {\n",
    "    'polynomial_features__degree': [1, 2],\n",
    "}\n",
    "\n",
    "linear_regression = GridSearchCV(estimator, params, cv=kf)"
   ]
  },
  {
   "cell_type": "markdown",
   "metadata": {},
   "source": [
    "Training the linear regression model without the processing of the target transformation through the Boxcox transformation."
   ]
  },
  {
   "cell_type": "code",
   "execution_count": 42,
   "metadata": {},
   "outputs": [
    {
     "data": {
      "text/plain": [
       "(0.84707115008011, {'polynomial_features__degree': 1})"
      ]
     },
     "execution_count": 42,
     "metadata": {},
     "output_type": "execute_result"
    }
   ],
   "source": [
    "# Training the linear regression model\n",
    "linear_regression_bc = linear_regression.fit(X_sale_train, y_sale_train_bc);\n",
    "linear_regression_bc.best_score_, linear_regression_bc.best_params_"
   ]
  },
  {
   "cell_type": "code",
   "execution_count": 43,
   "metadata": {},
   "outputs": [
    {
     "data": {
      "text/plain": [
       "0.8551850018955516"
      ]
     },
     "execution_count": 43,
     "metadata": {},
     "output_type": "execute_result"
    }
   ],
   "source": [
    "# Estimating the model error with respect to the train set \n",
    "\n",
    "y_predict_lr = linear_regression_bc.predict(X_sale_train)\n",
    "# y_predict_bc = inv_boxcox(y_predict,lam)\n",
    "# r2_score(y_sale_train,y_predict_bc)\n",
    "\n",
    "lr_train_score_bc = r2_score(y_sale_train_bc,y_predict_lr)\n",
    "lr_train_score_bc"
   ]
  },
  {
   "cell_type": "code",
   "execution_count": 44,
   "metadata": {},
   "outputs": [
    {
     "data": {
      "text/plain": [
       "0.8507878551370501"
      ]
     },
     "execution_count": 44,
     "metadata": {},
     "output_type": "execute_result"
    }
   ],
   "source": [
    "# Estimating model error in the test set\n",
    "z=boxcox(y_sale_test,lam)\n",
    "\n",
    "y_predict_test_lr = linear_regression_bc.predict(X_sale_test)\n",
    "# y_predict_bc = inv_boxcox(y_predict_test,lam)\n",
    "# ridge_test_score = r2_score(y_sale_test,y_predict_bc)\n",
    "lr_test_score_bc = r2_score(z, y_predict_test_lr)\n",
    "lr_test_score_bc"
   ]
  },
  {
   "cell_type": "markdown",
   "metadata": {},
   "source": [
    "Training the linear regression model without the target transformation procedure."
   ]
  },
  {
   "cell_type": "code",
   "execution_count": 45,
   "metadata": {},
   "outputs": [
    {
     "data": {
      "text/plain": [
       "(0.7957867279520098, {'polynomial_features__degree': 1})"
      ]
     },
     "execution_count": 45,
     "metadata": {},
     "output_type": "execute_result"
    }
   ],
   "source": [
    "# Training the linear regression model without the target transformation procedure\n",
    "\n",
    "lr_grid_fit = linear_regression.fit(X_sale_train, y_sale_train);\n",
    "lr_grid_fit.best_score_, lr_grid_fit.best_params_"
   ]
  },
  {
   "cell_type": "code",
   "execution_count": 46,
   "metadata": {},
   "outputs": [
    {
     "data": {
      "text/plain": [
       "0.8127320804162446"
      ]
     },
     "execution_count": 46,
     "metadata": {},
     "output_type": "execute_result"
    }
   ],
   "source": [
    "# Estimating the model error with respect to the train set \n",
    "\n",
    "y_predict = lr_grid_fit.predict(X_sale_train)\n",
    "lr_train_score = r2_score(y_sale_train,y_predict)\n",
    "lr_train_score"
   ]
  },
  {
   "cell_type": "code",
   "execution_count": 47,
   "metadata": {},
   "outputs": [
    {
     "data": {
      "text/plain": [
       "0.7990367637707928"
      ]
     },
     "execution_count": 47,
     "metadata": {},
     "output_type": "execute_result"
    }
   ],
   "source": [
    "# Estimating the model error with respect to the test set \n",
    "\n",
    "y_predict_test = lr_grid_fit.predict(X_sale_test)\n",
    "lr_test_score = r2_score(y_sale_test,y_predict_test)\n",
    "lr_test_score"
   ]
  },
  {
   "cell_type": "markdown",
   "metadata": {},
   "source": [
    "### **2. Ridge regression**"
   ]
  },
  {
   "cell_type": "code",
   "execution_count": 48,
   "metadata": {},
   "outputs": [],
   "source": [
    "# Same estimator as before\n",
    "# Pipeline using Ridge \n",
    "estimator = Pipeline([(\"scaler\", MinMaxScaler()),\n",
    "        (\"polynomial_features\", PolynomialFeatures()),\n",
    "        (\"ridge_regression\", Ridge())])\n",
    "\n",
    "params = {\n",
    "    'polynomial_features__degree': [1, 2],\n",
    "    'ridge_regression__alpha': np.geomspace(1e-9, 1, 30)\n",
    "}\n",
    "\n",
    "ridge_grid = GridSearchCV(estimator, params, cv=kf)"
   ]
  },
  {
   "cell_type": "markdown",
   "metadata": {},
   "source": [
    "Training the linear regression model considering the Boxcox target transformation."
   ]
  },
  {
   "cell_type": "code",
   "execution_count": 49,
   "metadata": {},
   "outputs": [
    {
     "data": {
      "text/plain": [
       "(0.8745734216460678,\n",
       " {'polynomial_features__degree': 2,\n",
       "  'ridge_regression__alpha': 0.4893900918477499})"
      ]
     },
     "execution_count": 49,
     "metadata": {},
     "output_type": "execute_result"
    }
   ],
   "source": [
    "# Training the linear regression model\n",
    "\n",
    "ridge_grid_bc = ridge_grid.fit(X_sale_train, y_sale_train_bc);\n",
    "ridge_grid_bc.best_score_, ridge_grid_bc.best_params_"
   ]
  },
  {
   "cell_type": "code",
   "execution_count": 50,
   "metadata": {},
   "outputs": [
    {
     "data": {
      "text/plain": [
       "0.9114971267188228"
      ]
     },
     "execution_count": 50,
     "metadata": {},
     "output_type": "execute_result"
    }
   ],
   "source": [
    "# Estimating the model error with respect to the train set \n",
    "\n",
    "y_predict = ridge_grid_bc.predict(X_sale_train)\n",
    "# y_predict_bc = inv_boxcox(y_predict,lam)\n",
    "# r2_score(y_sale_train,y_predict_bc)\n",
    "\n",
    "ridge_train_score_bc = r2_score(y_sale_train_bc,y_predict)\n",
    "ridge_train_score_bc"
   ]
  },
  {
   "cell_type": "code",
   "execution_count": 51,
   "metadata": {},
   "outputs": [
    {
     "data": {
      "text/plain": [
       "0.8809099171080754"
      ]
     },
     "execution_count": 51,
     "metadata": {},
     "output_type": "execute_result"
    }
   ],
   "source": [
    "# Estimating the model error with respect to the test set \n",
    "z=boxcox(y_sale_test,lam)\n",
    "\n",
    "y_predict_test = ridge_grid_bc.predict(X_sale_test)\n",
    "# y_predict_bc = inv_boxcox(y_predict_test,lam)\n",
    "# ridge_test_score = r2_score(y_sale_test,y_predict_bc)\n",
    "ridge_test_score_bc = r2_score(z, y_predict_test)\n",
    "ridge_test_score_bc\n"
   ]
  },
  {
   "cell_type": "code",
   "execution_count": 52,
   "metadata": {},
   "outputs": [],
   "source": [
    "ridge_grid_bc_scores = pd.DataFrame(ridge_grid_bc.cv_results_['mean_test_score'], columns=['scores'])\n",
    "ridge_grid_bc_alphas = pd.DataFrame(ridge_grid_bc.cv_results_['params'])\n",
    "ridge_grid_bc_results = ridge_grid_bc_alphas.join(ridge_grid_bc_scores)\n",
    "\n",
    "mask = ridge_grid_bc_results['polynomial_features__degree']==ridge_grid_bc.best_params_['polynomial_features__degree']\n",
    "ridge_grid_bc_results = ridge_grid_bc_results[mask]\n",
    "\n",
    "x = ridge_grid_bc_results['ridge_regression__alpha']\n",
    "y = ridge_grid_bc_results['scores']"
   ]
  },
  {
   "cell_type": "code",
   "execution_count": 53,
   "metadata": {},
   "outputs": [
    {
     "name": "stdout",
     "output_type": "stream",
     "text": [
      "R²: 0.8746\n",
      "\n",
      "Best parameters:\n",
      "Polynomial degree: 2\n",
      "Alpha: 0.4894\n"
     ]
    },
    {
     "data": {
      "image/png": "[encoded data removed]",
      "text/plain": [
       "<Figure size 576x360 with 1 Axes>"
      ]
     },
     "metadata": {
      "needs_background": "light"
     },
     "output_type": "display_data"
    }
   ],
   "source": [
    "print(f'R²: {ridge_grid_bc.best_score_:.4f}\\n')\n",
    "print(\"Best parameters:\")\n",
    "print(f\"Polynomial degree: {ridge_grid_bc.best_params_['polynomial_features__degree']}\")\n",
    "print(f\"Alpha: {ridge_grid_bc.best_params_['ridge_regression__alpha']:.4f}\")\n",
    "\n",
    "# Plot\n",
    "plt.figure(figsize=(8,5))\n",
    "plt.plot(x, y, '-o')\n",
    "\n",
    "plt.plot(x.reset_index(drop=True)[y.reset_index(drop=True).argmax()]\n",
    "        ,y.max()\n",
    "        , color='cyan', marker='o', markersize=8)\n",
    "\n",
    "plt.xlabel('$\\\\alpha$')\n",
    "plt.ylabel('$R^2$');\n",
    "\n",
    "plt.xticks(np.arange(x.min(),x.max(),.1))\n",
    "plt.grid(which='minor', color='r', linestyle='--', alpha=0.1)\n",
    "plt.minorticks_on()\n",
    "\n",
    "plt.show()"
   ]
  },
  {
   "cell_type": "markdown",
   "metadata": {},
   "source": [
    "Training the linear regression model without the processing of the target transformation through the Boxcox transformation."
   ]
  },
  {
   "cell_type": "code",
   "execution_count": 54,
   "metadata": {},
   "outputs": [
    {
     "data": {
      "text/plain": [
       "(0.8733275997991221,\n",
       " {'polynomial_features__degree': 2, 'ridge_regression__alpha': 1.0})"
      ]
     },
     "execution_count": 54,
     "metadata": {},
     "output_type": "execute_result"
    }
   ],
   "source": [
    "# Training the linear regression model without the target transformation procedure\n",
    "\n",
    "ridge_grid_fit = ridge_grid.fit(X_sale_train, y_sale_train);\n",
    "ridge_grid_fit.best_score_, ridge_grid_fit.best_params_"
   ]
  },
  {
   "cell_type": "code",
   "execution_count": 55,
   "metadata": {},
   "outputs": [
    {
     "data": {
      "text/plain": [
       "0.9301315450504009"
      ]
     },
     "execution_count": 55,
     "metadata": {},
     "output_type": "execute_result"
    }
   ],
   "source": [
    "# Estimating the model error with respect to the train set \n",
    "\n",
    "y_predict = ridge_grid_fit.predict(X_sale_train)\n",
    "ridge_train_score = r2_score(y_sale_train,y_predict)\n",
    "ridge_train_score"
   ]
  },
  {
   "cell_type": "code",
   "execution_count": 56,
   "metadata": {},
   "outputs": [
    {
     "data": {
      "text/plain": [
       "0.877547693676485"
      ]
     },
     "execution_count": 56,
     "metadata": {},
     "output_type": "execute_result"
    }
   ],
   "source": [
    "# Estimating the model error with respect to the test set \n",
    "\n",
    "y_predict_test = ridge_grid_fit.predict(X_sale_test)\n",
    "ridge_test_score = r2_score(y_sale_test,y_predict_test)\n",
    "ridge_test_score"
   ]
  },
  {
   "cell_type": "code",
   "execution_count": 57,
   "metadata": {},
   "outputs": [],
   "source": [
    "ridge_grid_scores = pd.DataFrame(ridge_grid_fit.cv_results_['mean_test_score'], columns=['scores'])\n",
    "ridge_grid_alphas = pd.DataFrame(ridge_grid_fit.cv_results_['params'])\n",
    "ridge_grid_results = ridge_grid_alphas.join(ridge_grid_scores)\n",
    "\n",
    "mask = ridge_grid_results['polynomial_features__degree']==ridge_grid_fit.best_params_['polynomial_features__degree']\n",
    "ridge_grid_results = ridge_grid_results[mask]\n",
    "\n",
    "x = ridge_grid_results['ridge_regression__alpha']\n",
    "y = ridge_grid_results['scores']"
   ]
  },
  {
   "cell_type": "code",
   "execution_count": 58,
   "metadata": {},
   "outputs": [
    {
     "name": "stdout",
     "output_type": "stream",
     "text": [
      "R²: 0.8733\n",
      "\n",
      "Best parameters:\n",
      "Polynomial degree: 2\n",
      "Alpha: 1.0000\n"
     ]
    },
    {
     "data": {
      "image/png": "[encoded data removed]",
      "text/plain": [
       "<Figure size 576x360 with 1 Axes>"
      ]
     },
     "metadata": {
      "needs_background": "light"
     },
     "output_type": "display_data"
    }
   ],
   "source": [
    "print(f'R²: {ridge_grid_fit.best_score_:.4f}\\n')\n",
    "print(\"Best parameters:\")\n",
    "print(f\"Polynomial degree: {ridge_grid_fit.best_params_['polynomial_features__degree']}\")\n",
    "print(f\"Alpha: {ridge_grid_fit.best_params_['ridge_regression__alpha']:.4f}\")\n",
    "\n",
    "# Plot\n",
    "plt.figure(figsize=(8,5))\n",
    "plt.plot(x, y, '-o')\n",
    "\n",
    "plt.plot(x.reset_index(drop=True)[y.reset_index(drop=True).argmax()]\n",
    "        ,y.max()\n",
    "        , color='cyan', marker='o', markersize=8)\n",
    "\n",
    "plt.xlabel('$\\\\alpha$')\n",
    "plt.ylabel('$R^2$');\n",
    "\n",
    "plt.xticks(np.arange(x.min(),x.max()+1,.5))\n",
    "plt.grid(which='minor', color='r', linestyle='--', alpha=0.1)\n",
    "plt.minorticks_on()\n",
    "\n",
    "plt.show()"
   ]
  },
  {
   "cell_type": "markdown",
   "metadata": {},
   "source": [
    "### **3. Lasso regression**"
   ]
  },
  {
   "cell_type": "code",
   "execution_count": 59,
   "metadata": {},
   "outputs": [],
   "source": [
    "# Same estimator as before\n",
    "\n",
    "estimator = Pipeline([(\"scaler\", MinMaxScaler()),\n",
    "        (\"polynomial_features\", PolynomialFeatures()),\n",
    "        (\"lasso_regression\", Lasso())])\n",
    "\n",
    "params = {\n",
    "    'polynomial_features__degree': [1, 2],\n",
    "    'lasso_regression__alpha': np.geomspace(10e-9, 3, num=20)\n",
    "}\n",
    "\n",
    "lasso_grid = GridSearchCV(estimator, params, cv=kf)"
   ]
  },
  {
   "cell_type": "markdown",
   "metadata": {},
   "source": [
    "Training the linear regression model considering the Boxcox target transformation.\n"
   ]
  },
  {
   "cell_type": "code",
   "execution_count": 60,
   "metadata": {},
   "outputs": [
    {
     "data": {
      "text/plain": [
       "(0.8768741010280394,\n",
       " {'lasso_regression__alpha': 6.090558321815886e-07,\n",
       "  'polynomial_features__degree': 2})"
      ]
     },
     "execution_count": 60,
     "metadata": {},
     "output_type": "execute_result"
    }
   ],
   "source": [
    "# Training the linear regression model with target transformation\n",
    "\n",
    "lasso_grid_bc = lasso_grid.fit(X_sale_train, y_sale_train_bc);\n",
    "lasso_grid_bc.best_score_, lasso_grid_bc.best_params_"
   ]
  },
  {
   "cell_type": "code",
   "execution_count": 61,
   "metadata": {},
   "outputs": [
    {
     "data": {
      "text/plain": [
       "0.9036226133636306"
      ]
     },
     "execution_count": 61,
     "metadata": {},
     "output_type": "execute_result"
    }
   ],
   "source": [
    "# Estimating the model error with respect to the train set \n",
    "y_predict_train = lasso_grid_bc.predict(X_sale_train)\n",
    "# y_predict_bc = inv_boxcox(y_predict_train,lam)\n",
    "# r2_score(y_sale_train,y_predict_bc)\n",
    "\n",
    "lasso_train_score_bc = r2_score(y_sale_train_bc, y_predict_train)\n",
    "lasso_train_score_bc "
   ]
  },
  {
   "cell_type": "code",
   "execution_count": 62,
   "metadata": {},
   "outputs": [
    {
     "data": {
      "text/plain": [
       "0.8838976319072057"
      ]
     },
     "execution_count": 62,
     "metadata": {},
     "output_type": "execute_result"
    }
   ],
   "source": [
    "# Estimating the model error with respect to the test set \n",
    "\n",
    "z=boxcox(y_sale_test,lam)\n",
    "\n",
    "y_predict_test = lasso_grid_bc.predict(X_sale_test)\n",
    "#y_predict_bc = inv_boxcox(y_predict_test,lam)\n",
    "#r2_score(y_sale_test, y_predict_bc)\n",
    "lasso_test_score_bc = r2_score(z, y_predict_test)\n",
    "lasso_test_score_bc\n"
   ]
  },
  {
   "cell_type": "code",
   "execution_count": 63,
   "metadata": {},
   "outputs": [],
   "source": [
    "lasso_grid_bc_scores = pd.DataFrame(lasso_grid_bc.cv_results_['mean_test_score'], columns=['scores'])\n",
    "lasso_grid_bc_alphas = pd.DataFrame(lasso_grid_bc.cv_results_['params'])\n",
    "lasso_grid_bc_results = lasso_grid_bc_alphas.join(lasso_grid_bc_scores)\n",
    "\n",
    "mask = lasso_grid_bc_results['polynomial_features__degree']==lasso_grid_bc.best_params_['polynomial_features__degree']\n",
    "lasso_grid_bc_results = lasso_grid_bc_results[mask]\n",
    "\n",
    "# Serie of alpha values \n",
    "x = lasso_grid_bc_results['lasso_regression__alpha']\n",
    "\n",
    "# Serie of scores\n",
    "y = lasso_grid_bc_results['scores']"
   ]
  },
  {
   "cell_type": "code",
   "execution_count": 64,
   "metadata": {},
   "outputs": [
    {
     "name": "stdout",
     "output_type": "stream",
     "text": [
      "R²: 0.8769\n",
      "\n",
      "Best parameters:\n",
      " - Polynomial degree: 2\n",
      " - Alpha: 6.090558321815886e-07\n"
     ]
    },
    {
     "data": {
      "image/png": "[encoded data removed]",
      "text/plain": [
       "<Figure size 576x360 with 1 Axes>"
      ]
     },
     "metadata": {
      "needs_background": "light"
     },
     "output_type": "display_data"
    }
   ],
   "source": [
    "print(f'R²: {lasso_grid_bc.best_score_:.4f}\\n')\n",
    "print(\"Best parameters:\")\n",
    "print(f\" - Polynomial degree: {lasso_grid_bc.best_params_['polynomial_features__degree']}\")\n",
    "print(f\" - Alpha: {lasso_grid_bc.best_params_['lasso_regression__alpha']}\")\n",
    "\n",
    "\n",
    "# Plot\n",
    "plt.figure(figsize=(8,5))\n",
    "plt.plot(x, y, '-o')\n",
    "plt.xscale('log')\n",
    "\n",
    "plt.plot(x.reset_index(drop=True)[y.reset_index(drop=True).argmax()]\n",
    "        ,y.max()\n",
    "        , color='cyan', marker='o', markersize=8)\n",
    "\n",
    "plt.xlabel('$\\\\alpha$')\n",
    "plt.ylabel('$R^2$');\n",
    "\n",
    "plt.xticks(np.arange(x.min(),x.max()+1,.5))\n",
    "plt.grid(which='minor', color='r', linestyle='--', alpha=0.1)\n",
    "plt.minorticks_on()\n",
    "\n",
    "plt.show()"
   ]
  },
  {
   "cell_type": "markdown",
   "metadata": {},
   "source": [
    "Training the linear regression model without the target transformation procedure."
   ]
  },
  {
   "cell_type": "code",
   "execution_count": 65,
   "metadata": {},
   "outputs": [
    {
     "data": {
      "text/plain": [
       "(0.8512558297328917,\n",
       " {'lasso_regression__alpha': 3.0, 'polynomial_features__degree': 2})"
      ]
     },
     "execution_count": 65,
     "metadata": {},
     "output_type": "execute_result"
    }
   ],
   "source": [
    "# Training the linear regression model without the target transformation procedure\n",
    "\n",
    "lasso_grid_fit = lasso_grid.fit(X_sale_train, y_sale_train);\n",
    "lasso_grid_fit.best_score_, lasso_grid_fit.best_params_"
   ]
  },
  {
   "cell_type": "code",
   "execution_count": 66,
   "metadata": {},
   "outputs": [
    {
     "data": {
      "text/plain": [
       "0.9533506887294195"
      ]
     },
     "execution_count": 66,
     "metadata": {},
     "output_type": "execute_result"
    }
   ],
   "source": [
    "# Estimating the model error with respect to the train set \n",
    "\n",
    "y_predict_train = lasso_grid_fit.predict(X_sale_train)\n",
    "lasso_train_score = r2_score(y_sale_train,y_predict_train) \n",
    "lasso_train_score"
   ]
  },
  {
   "cell_type": "code",
   "execution_count": 67,
   "metadata": {},
   "outputs": [
    {
     "data": {
      "text/plain": [
       "0.8697696633198134"
      ]
     },
     "execution_count": 67,
     "metadata": {},
     "output_type": "execute_result"
    }
   ],
   "source": [
    "# Estimating the model error with respect to the test set \n",
    "\n",
    "y_predict_test = lasso_grid.predict(X_sale_test)\n",
    "lasso_test_score = r2_score(y_sale_test,y_predict_test)\n",
    "lasso_test_score"
   ]
  },
  {
   "cell_type": "code",
   "execution_count": 68,
   "metadata": {},
   "outputs": [],
   "source": [
    "lasso_grid_scores = pd.DataFrame(lasso_grid_fit.cv_results_['mean_test_score'], columns=['scores'])\n",
    "lasso_grid_alphas = pd.DataFrame(lasso_grid_fit.cv_results_['params'])\n",
    "lasso_grid_results = lasso_grid_alphas.join(lasso_grid_scores)\n",
    "\n",
    "mask = lasso_grid_results['polynomial_features__degree']==lasso_grid_fit.best_params_['polynomial_features__degree']\n",
    "lasso_grid_results = lasso_grid_results[mask]\n",
    "\n",
    "# Serie of alpha values \n",
    "x = lasso_grid_results['lasso_regression__alpha']\n",
    "\n",
    "# Serie of scores\n",
    "y = lasso_grid_results['scores']"
   ]
  },
  {
   "cell_type": "code",
   "execution_count": 69,
   "metadata": {},
   "outputs": [
    {
     "name": "stdout",
     "output_type": "stream",
     "text": [
      "R²: 0.8513\n",
      "\n",
      "Best parameters:\n",
      " - Polynomial degree: 2\n",
      " - Alpha: 3.0000\n"
     ]
    },
    {
     "data": {
      "image/png": "[encoded data removed]",
      "text/plain": [
       "<Figure size 576x360 with 1 Axes>"
      ]
     },
     "metadata": {
      "needs_background": "light"
     },
     "output_type": "display_data"
    }
   ],
   "source": [
    "print(f'R²: {lasso_grid_fit.best_score_:.4f}\\n')\n",
    "print(\"Best parameters:\")\n",
    "print(f\" - Polynomial degree: {lasso_grid_fit.best_params_['polynomial_features__degree']}\")\n",
    "print(f\" - Alpha: {lasso_grid_fit.best_params_['lasso_regression__alpha']:.4f}\")\n",
    "\n",
    "\n",
    "# Plot\n",
    "plt.figure(figsize=(8,5))\n",
    "plt.plot(x, y, '-o')\n",
    "plt.xscale('log')\n",
    "\n",
    "plt.plot(x.reset_index(drop=True)[y.reset_index(drop=True).argmax()]\n",
    "        ,y.max()\n",
    "        , color='cyan', marker='o', markersize=8)\n",
    "\n",
    "plt.xlabel('$\\\\alpha$')\n",
    "plt.ylabel('$R^2$');\n",
    "\n",
    "plt.xticks(np.arange(x.min(),x.max()+1,.5))\n",
    "plt.grid(which='minor', color='r', linestyle='--', alpha=0.1)\n",
    "plt.minorticks_on()\n",
    "\n",
    "plt.show()"
   ]
  },
  {
   "cell_type": "markdown",
   "metadata": {},
   "source": [
    "## Comparing the methods\n",
    "--- "
   ]
  },
  {
   "cell_type": "code",
   "execution_count": 70,
   "metadata": {},
   "outputs": [
    {
     "data": {
      "image/png": "[encoded data removed]",
      "text/plain": [
       "<Figure size 432x432 with 1 Axes>"
      ]
     },
     "metadata": {
      "needs_background": "light"
     },
     "output_type": "display_data"
    }
   ],
   "source": [
    "# y predito versus y real\n",
    "\n",
    "fig = plt.figure(figsize=(6,6))\n",
    "ax = plt.axes()\n",
    "\n",
    "labels = ['Linear', 'Ridge', 'Lasso']\n",
    "\n",
    "models = [linear_regression, ridge_grid, lasso_grid]\n",
    "\n",
    "for mod, lab in zip(models, labels):\n",
    "    ax.plot(y_sale_test, mod.predict(X_sale_test), \n",
    "             marker='o', ls='', ms=3.0, label=lab)\n",
    "\n",
    "\n",
    "leg = plt.legend(frameon=True)\n",
    "leg.get_frame().set_edgecolor('black')\n",
    "leg.get_frame().set_linewidth(1.0)\n",
    "\n",
    "ax.set(xlabel='Real Price', \n",
    "       ylabel='Predicted Price', \n",
    "       title='Linear Regression');"
   ]
  },
  {
   "cell_type": "code",
   "execution_count": 71,
   "metadata": {},
   "outputs": [
    {
     "name": "stdout",
     "output_type": "stream",
     "text": [
      "R² of each of the models in relation to the training set\n",
      "        Without target transformation  With Boxcox transformation\n",
      "Linear                       0.799037                    0.850788\n",
      "Ridge                        0.877548                    0.880910\n",
      "Lasso                        0.869770                    0.883898\n"
     ]
    }
   ],
   "source": [
    "#rmse_vals = [linear_score, ridge_test_score, lasso_test_score]\n",
    "scores = [lr_test_score, ridge_test_score, lasso_test_score]\n",
    "scores_bc = [lr_test_score_bc, ridge_test_score_bc, lasso_test_score_bc]\n",
    "\n",
    "#labels = ['Linear', 'Ridge', 'Lasso', 'ElasticNet']\n",
    "labels = ['Linear', 'Ridge', 'Lasso']\n",
    "\n",
    "scores_df = pd.Series(scores, index=labels).to_frame()\n",
    "scores_df.rename(columns={0: 'Without target transformation'}, inplace=1)\n",
    "scores_df['With Boxcox transformation'] = pd.Series(scores_bc, index=labels).to_frame()\n",
    "scores_df.reset_index(0)\n",
    "\n",
    "print(\"R² of each of the models in relation to the training set\")\n",
    "print(scores_df)"
   ]
  },
  {
   "cell_type": "markdown",
   "metadata": {},
   "source": [
    "All models present better results with the transformation of the target by BoxCox."
   ]
  },
  {
   "cell_type": "markdown",
   "metadata": {},
   "source": [
    "## Gradient descent\n",
    "---"
   ]
  },
  {
   "cell_type": "code",
   "execution_count": 72,
   "metadata": {},
   "outputs": [],
   "source": [
    "# The models that presented the best results were those\n",
    "models = [linear_regression_bc, ridge_grid_bc, lasso_grid_bc]"
   ]
  },
  {
   "cell_type": "code",
   "execution_count": 73,
   "metadata": {},
   "outputs": [],
   "source": [
    "from sklearn.metrics import mean_squared_error\n",
    "\n",
    "# Mean squared error function\n",
    "def rmse(ytrue, ypredicted):\n",
    "    return np.sqrt(mean_squared_error(ytrue, ypredicted))"
   ]
  },
  {
   "cell_type": "code",
   "execution_count": 74,
   "metadata": {},
   "outputs": [],
   "source": [
    "# Calculation of the error of already trained models\n",
    "linearRegression_rmse = rmse(y_sale_test, linear_regression_bc.predict(X_sale_test))\n",
    "ridgeCV_rmse = rmse(y_sale_test, ridge_grid_bc.predict(X_sale_test))\n",
    "lassoCV_rmse = rmse(y_sale_test, lasso_grid_bc.predict(X_sale_test))\n",
    "\n",
    "\n",
    "rmse_vals = [linearRegression_rmse, ridgeCV_rmse, lassoCV_rmse]\n",
    "labels = ['Linear', 'Ridge', 'Lasso']\n",
    "\n",
    "rmse_df = pd.Series(rmse_vals, index=labels).to_frame()\n",
    "rmse_df.rename(columns={0: 'RMSE'}, inplace=1)"
   ]
  },
  {
   "cell_type": "code",
   "execution_count": 75,
   "metadata": {},
   "outputs": [],
   "source": [
    "scaler = MinMaxScaler()\n",
    "\n",
    "# Preprocessing features by MinMax scaling\n",
    "X_train_scaled = scaler.fit_transform(X_sale_train)\n",
    "X_test_scaled = scaler.transform(X_sale_test)"
   ]
  },
  {
   "cell_type": "code",
   "execution_count": 76,
   "metadata": {},
   "outputs": [],
   "source": [
    "from sklearn.preprocessing import PolynomialFeatures\n",
    "\n",
    "# The models that presented the best results were those\n",
    "models = [linear_regression_bc, ridge_grid_bc, lasso_grid_bc]\n",
    "labels = ['Linear', 'Ridge', 'Lasso']\n",
    "\n",
    "# Getting the best parameters of each model in relation to the polynomial degree\n",
    "degrees=[model.best_params_['polynomial_features__degree'] for model in models]\n",
    "\n",
    "degrees = dict(zip(labels,degrees))"
   ]
  },
  {
   "cell_type": "code",
   "execution_count": 77,
   "metadata": {},
   "outputs": [
    {
     "data": {
      "text/html": [
       "<div>\n",
       "<style scoped>\n",
       "    .dataframe tbody tr th:only-of-type {\n",
       "        vertical-align: middle;\n",
       "    }\n",
       "\n",
       "    .dataframe tbody tr th {\n",
       "        vertical-align: top;\n",
       "    }\n",
       "\n",
       "    .dataframe thead th {\n",
       "        text-align: right;\n",
       "    }\n",
       "</style>\n",
       "<table border=\"1\" class=\"dataframe\">\n",
       "  <thead>\n",
       "    <tr style=\"text-align: right;\">\n",
       "      <th></th>\n",
       "      <th>RMSE</th>\n",
       "      <th>RMSE-SGD</th>\n",
       "    </tr>\n",
       "  </thead>\n",
       "  <tbody>\n",
       "    <tr>\n",
       "      <th>Linear</th>\n",
       "      <td>323556.570511</td>\n",
       "      <td>0.022642</td>\n",
       "    </tr>\n",
       "    <tr>\n",
       "      <th>Ridge</th>\n",
       "      <td>252566.298957</td>\n",
       "      <td>0.004845</td>\n",
       "    </tr>\n",
       "    <tr>\n",
       "      <th>Lasso</th>\n",
       "      <td>260464.174802</td>\n",
       "      <td>0.004531</td>\n",
       "    </tr>\n",
       "  </tbody>\n",
       "</table>\n",
       "</div>"
      ],
      "text/plain": [
       "                 RMSE  RMSE-SGD\n",
       "Linear  323556.570511  0.022642\n",
       "Ridge   252566.298957  0.004845\n",
       "Lasso   260464.174802  0.004531"
      ]
     },
     "execution_count": 77,
     "metadata": {},
     "output_type": "execute_result"
    }
   ],
   "source": [
    "# gradient descendent\n",
    "from sklearn.linear_model import SGDRegressor\n",
    "\n",
    "\n",
    "model_parameters_dict = {\n",
    "    'Linear': {'penalty':'none'},\n",
    "    'Lasso': {'penalty': 'l2',\n",
    "           'alpha': lasso_grid_bc.best_params_['lasso_regression__alpha']},\n",
    "    'Ridge': {'penalty': 'l1',\n",
    "           'alpha': ridge_grid_bc.best_params_['ridge_regression__alpha']}\n",
    "           #'Learning rate': 'Learning rate : 0.0025'}\n",
    "}\n",
    "\n",
    "new_rmses = {}\n",
    "for modellabel, parameters in model_parameters_dict.items():\n",
    "    degree = degrees[modellabel]\n",
    "    pf = PolynomialFeatures(degree=degree)\n",
    "    X_train_pf= pf.fit_transform(X_train_scaled)\n",
    "    X_test_pf = pf.transform(X_test_scaled)\n",
    "    # following notation passes the dict items as arguments\n",
    "    SGD = SGDRegressor(**parameters)\n",
    "    SGD.fit(X_train_pf, y_sale_train_bc)\n",
    "    new_rmses[modellabel] = rmse(z, SGD.predict(X_test_pf)) # z is the y after the boxcox procedure, it was defined at the beginning of model training\n",
    "\n",
    "\n",
    "rmse_df['RMSE-SGD'] = pd.Series(new_rmses, index=labels).to_frame()\n",
    "rmse_df"
   ]
  }
 ],
 "metadata": {
  "kernelspec": {
   "display_name": "Python 3.9.12 ('base')",
   "language": "python",
   "name": "python3"
  },
  "language_info": {
   "codemirror_mode": {
    "name": "ipython",
    "version": 3
   },
   "file_extension": ".py",
   "mimetype": "text/x-python",
   "name": "python",
   "nbconvert_exporter": "python",
   "pygments_lexer": "ipython3",
   "version": "3.9.12"
  },
  "orig_nbformat": 4,
  "vscode": {
   "interpreter": {
    "hash": "f18aa9aeddb06aebc7590e9116cf03ef4dec4a68ff8af01c4c386f01190caf3a"
   }
  }
 },
 "nbformat": 4,
 "nbformat_minor": 2
}
